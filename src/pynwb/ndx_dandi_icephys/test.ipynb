{
 "cells": [
  {
   "cell_type": "code",
   "execution_count": 1,
   "metadata": {},
   "outputs": [],
   "source": [
    "from datetime import datetime\n",
    "from pynwb import NWBFile, NWBHDF5IO\n",
    "from ndx_dandi_icephys import LabMetaData_ext"
   ]
  },
  {
   "cell_type": "code",
   "execution_count": 2,
   "metadata": {},
   "outputs": [
    {
     "name": "stderr",
     "output_type": "stream",
     "text": [
      "C:\\Users\\Luiz\\Anaconda3\\envs\\ipfx\\lib\\site-packages\\hdmf\\build\\map.py:941: MissingRequiredWarning: attribute 'help' for 'LabMetaData' (LabMetaData_ext)\n",
      "  warnings.warn(msg, MissingRequiredWarning)\n"
     ]
    },
    {
     "name": "stdout",
     "output_type": "stream",
     "text": [
      "\n",
      "LabMetaData <class 'abc.LabMetaData_ext'>\n",
      "Fields:\n",
      "  cell_id: cell_id\n",
      "  tissue_sample_id: tissue_sample_id\n",
      "\n"
     ]
    },
    {
     "name": "stderr",
     "output_type": "stream",
     "text": [
      "C:\\Users\\Luiz\\Anaconda3\\envs\\ipfx\\lib\\site-packages\\hdmf\\spec\\namespace.py:452: UserWarning: ignoring namespace 'core' because it already exists\n",
      "  warn(\"ignoring namespace '%s' because it already exists\" % ns['name'])\n",
      "C:\\Users\\Luiz\\Anaconda3\\envs\\ipfx\\lib\\site-packages\\hdmf\\spec\\namespace.py:452: UserWarning: ignoring namespace 'ndx-dandi-icephys' because it already exists\n",
      "  warn(\"ignoring namespace '%s' because it already exists\" % ns['name'])\n"
     ]
    }
   ],
   "source": [
    "nwb = NWBFile('session_description', 'identifier', datetime.now().astimezone())\n",
    "\n",
    "# Creates LabMetaData container\n",
    "lab_metadata = LabMetaData_ext(\n",
    "    name='LabMetaData',\n",
    "    cell_id='cell_id',\n",
    "    tissue_sample_id='tissue_sample_id',\n",
    ")\n",
    "\n",
    "# Add to file\n",
    "nwb.add_lab_meta_data(lab_metadata)\n",
    "\n",
    "# Write nwb file\n",
    "with NWBHDF5IO('test_labmetadata.nwb', 'w') as io:\n",
    "    io.write(nwb)\n",
    "\n",
    "# Read nwb file and check its content\n",
    "with NWBHDF5IO('test_labmetadata.nwb', 'r', load_namespaces=True) as io:\n",
    "    nwb = io.read()\n",
    "    print(nwb.lab_meta_data['LabMetaData'])"
   ]
  },
  {
   "cell_type": "code",
   "execution_count": null,
   "metadata": {},
   "outputs": [],
   "source": []
  },
  {
   "cell_type": "code",
   "execution_count": null,
   "metadata": {},
   "outputs": [],
   "source": []
  }
 ],
 "metadata": {
  "kernelspec": {
   "display_name": "Python 3",
   "language": "python",
   "name": "python3"
  },
  "language_info": {
   "codemirror_mode": {
    "name": "ipython",
    "version": 3
   },
   "file_extension": ".py",
   "mimetype": "text/x-python",
   "name": "python",
   "nbconvert_exporter": "python",
   "pygments_lexer": "ipython3",
   "version": "3.7.4"
  }
 },
 "nbformat": 4,
 "nbformat_minor": 2
}
